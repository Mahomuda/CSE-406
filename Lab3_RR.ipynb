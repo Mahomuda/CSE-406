{
  "nbformat": 4,
  "nbformat_minor": 0,
  "metadata": {
    "colab": {
      "provenance": []
    },
    "kernelspec": {
      "name": "python3",
      "display_name": "Python 3"
    },
    "language_info": {
      "name": "python"
    }
  },
  "cells": [
    {
      "cell_type": "code",
      "execution_count": 18,
      "metadata": {
        "colab": {
          "base_uri": "https://localhost:8080/"
        },
        "id": "tuyA4DVRzWY1",
        "outputId": "e49991f1-7703-43f3-aaf0-66ad54a190b6"
      },
      "outputs": [
        {
          "output_type": "stream",
          "name": "stdout",
          "text": [
            "enter num of processors: 5\n",
            "enter arrival time of pid 1: 0\n",
            "enter burst time of pid 1: 5\n",
            "enter arrival time of pid 2: 1\n",
            "enter burst time of pid 2: 3\n",
            "enter arrival time of pid 3: 2\n",
            "enter burst time of pid 3: 1\n",
            "enter arrival time of pid 4: 3\n",
            "enter burst time of pid 4: 2\n",
            "enter arrival time of pid 5: 4\n",
            "enter burst time of pid 5: 3\n",
            "enter time quantum: 2\n",
            "\n",
            "Pid\tAT\tBT\tCT\tTAT\tWT\n",
            "1\t0\t5\t13\t13\t8\n",
            "2\t1\t3\t12\t11\t8\n",
            "3\t2\t1\t5\t3\t2\n",
            "4\t3\t2\t9\t6\t4\n",
            "5\t4\t3\t14\t10\t7\n",
            "Average TAT: 8.60\n",
            "Average WT: 5.80\n"
          ]
        }
      ],
      "source": [
        "from collections import deque\n",
        "n = int(input(\"enter num of processors: \"))\n",
        "proc = []\n",
        "\n",
        "for i in range(n): #user input\n",
        "    pid = i + 1\n",
        "    at = int(input(f\"enter arrival time of pid {pid}: \"))\n",
        "    bt = int(input(f\"enter burst time of pid {pid}: \"))\n",
        "    proc.append({\"pid\": pid, \"at\": at, \"bt\": bt, \"rt\": bt})\n",
        "\n",
        "time_quan = int(input(\"enter time quantum: \"))\n",
        "proc.sort(key=lambda x: x[\"at\"])\n",
        "\n",
        "ct = [0] * n\n",
        "tat = [0] * n\n",
        "wt = [0] * n\n",
        "queue = deque()\n",
        "time = 0\n",
        "complete_proc = 0\n",
        "visit_proc = [False] * n\n",
        "\n",
        "\n",
        "for i in range(n):\n",
        "    if proc[i][\"at\"] <= time:\n",
        "        queue.append(i)\n",
        "        visit_proc[i] = True\n",
        "\n",
        "while complete_proc < n:\n",
        "    if queue:\n",
        "        curr_proc = queue.popleft()\n",
        "        exe_time = min(time_quan, proc[curr_proc][\"rt\"])\n",
        "        proc[curr_proc][\"rt\"] -= exe_time\n",
        "        time += exe_time\n",
        "\n",
        "        for i in range(n):\n",
        "            if not visit_proc[i] and proc[i][\"at\"] <= time:\n",
        "                queue.append(i)\n",
        "                visit_proc[i] = True\n",
        "\n",
        "        if proc[curr_proc][\"rt\"] > 0:\n",
        "            queue.append(curr_proc)\n",
        "        else:\n",
        "            ct[curr_proc] = time\n",
        "            tat[curr_proc] = ct[curr_proc] - proc[curr_proc][\"at\"]\n",
        "            wt[curr_proc] = tat[curr_proc] - proc[curr_proc][\"bt\"]\n",
        "            complete_proc += 1\n",
        "    else:\n",
        "        time += 1\n",
        "\n",
        "        for i in range(n):\n",
        "            if not visit_proc[i] and proc[i][\"at\"] <= time:\n",
        "                queue.append(i)\n",
        "                visit_proc[i] = True\n",
        "\n",
        "print(\"\\nPid\\tAT\\tBT\\tCT\\tTAT\\tWT\")\n",
        "for i in range(n):\n",
        "    print(\n",
        "        f\"{proc[i]['pid']}\\t{proc[i]['at']}\\t{proc[i]['bt']}\\t{ct[i]}\\t{tat[i]}\\t{wt[i]}\"\n",
        "    )\n",
        "print(f\"Average TAT: {sum(tat)/n:.2f}\")\n",
        "print(f\"Average WT: {sum(wt)/n:.2f}\")\n"
      ]
    },
    {
      "cell_type": "code",
      "source": [],
      "metadata": {
        "id": "RDrz8kpOJL4G"
      },
      "execution_count": null,
      "outputs": []
    }
  ]
}