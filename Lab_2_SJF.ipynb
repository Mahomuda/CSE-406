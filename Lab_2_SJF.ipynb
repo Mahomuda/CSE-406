{
  "nbformat": 4,
  "nbformat_minor": 0,
  "metadata": {
    "colab": {
      "provenance": []
    },
    "kernelspec": {
      "name": "python3",
      "display_name": "Python 3"
    },
    "language_info": {
      "name": "python"
    }
  },
  "cells": [
    {
      "cell_type": "code",
      "execution_count": 15,
      "metadata": {
        "colab": {
          "base_uri": "https://localhost:8080/"
        },
        "id": "s4tz_hIxoaOK",
        "outputId": "d94d2602-84b3-4ec9-cd62-e8d05a377e0c"
      },
      "outputs": [
        {
          "output_type": "stream",
          "name": "stdout",
          "text": [
            "Enter num of processor: 5\n",
            "Enter process num: 1\n",
            "Enter arrival time for process 1: 0\n",
            "Enter burst time for process 1: 3\n",
            "Enter process num: 2\n",
            "Enter arrival time for process 2: 1\n",
            "Enter burst time for process 2: 2\n",
            "Enter process num: 3\n",
            "Enter arrival time for process 3: 2\n",
            "Enter burst time for process 3: 1\n",
            "Enter process num: 4\n",
            "Enter arrival time for process 4: 3\n",
            "Enter burst time for process 4: 4\n",
            "Enter process num: 5\n",
            "Enter arrival time for process 5: 0\n",
            "Enter burst time for process 5: 2\n",
            "\n",
            "Execution order: 5-3-2-1-4\n",
            "\n",
            "PID  |  AT  | BT 1| CT | TAT | WT\n",
            "1 | 0 | 3 | 8 | 8 | 5\n",
            "2 | 1 | 2 | 5 | 4 | 2\n",
            "3 | 2 | 1 | 3 | 1 | 0\n",
            "4 | 3 | 4 | 12 | 9 | 5\n",
            "5 | 0 | 2 | 2 | 2 | 0\n",
            "\n",
            "Average TAT: 4.8\n",
            "Average WT: 2.4\n"
          ]
        }
      ],
      "source": [
        "n= int(input(\"Enter num of processor: \"))\n",
        "proc = []\n",
        "\n",
        "#pid, at, bt\n",
        "for i in range(n):\n",
        "  pid = int(input(f\"Enter process num: \"))\n",
        "  pid=i+1\n",
        "  at = int(input(f\"Enter arrival time for process {pid}: \"))\n",
        "  bt = int(input(f\"Enter burst time for process {pid}: \"))\n",
        "  proc.append({\"pid\": pid,\"at\": at, \"bt\": bt})\n",
        "\n",
        "#sorting using at\n",
        "proc.sort(key=lambda x: x[\"at\"])\n",
        "\n",
        "\n",
        "ct = 0 #complition time initially 0\n",
        "ex_process = 0 #executed process num\n",
        "ex_order = [] #excution order\n",
        "current_proc = {} # empty dictionary for record\n",
        "\n",
        "while (ex_process < n):\n",
        "  #arrived process using at\n",
        "  arr_process = [p for p in proc if p[\"at\"] <= ct and \"ct\" not in p]\n",
        "\n",
        "  #sorting using bt\n",
        "  arr_process.sort(key=lambda x: x['bt'])\n",
        "\n",
        "  #using sjf algo\n",
        "  current_proc = arr_process[0]\n",
        "  ct += current_proc['bt']\n",
        "  current_proc['ct'] = ct\n",
        "  current_proc['tat'] = ct-current_proc['at'] #tat = ct - at\n",
        "  current_proc['wt']= current_proc['tat']-current_proc['bt'] #wt = tat - bt\n",
        "  ex_process += 1\n",
        "  ex_order.append(current_proc['pid'])\n",
        "\n",
        "\n",
        "#calculating avg\n",
        "avg_tat = sum(p['tat'] for p in proc)/n\n",
        "avg_wt = sum(p['wt'] for p in proc)/n\n",
        "\n",
        "#printing process\n",
        "print(\"\\nExecution order:\", \"-\" . join(map(str,ex_order)))\n",
        "print(\"\\nPID  |  AT  | BT | CT | TAT | WT\")\n",
        "for p in sorted (proc, key=lambda x: x[\"pid\"]):\n",
        "  print(f\"{p['pid']} | {p['at']} | {p['bt']} | {p['ct']} | {p['tat']} | {p['wt']}\")\n",
        "\n",
        "print(\"\\nAverage TAT:\", avg_tat)\n",
        "print(\"Average WT:\", avg_wt)"
      ]
    }
  ]
}