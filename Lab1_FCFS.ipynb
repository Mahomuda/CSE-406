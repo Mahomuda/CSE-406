{
  "nbformat": 4,
  "nbformat_minor": 0,
  "metadata": {
    "colab": {
      "provenance": []
    },
    "kernelspec": {
      "name": "python3",
      "display_name": "Python 3"
    },
    "language_info": {
      "name": "python"
    }
  },
  "cells": [
    {
      "cell_type": "markdown",
      "source": [
        "**FCFS CPU Scheduling**"
      ],
      "metadata": {
        "id": "_2bk-KRTvL9c"
      }
    },
    {
      "cell_type": "code",
      "source": [
        "pi=['p1','p2','p3','p4']\n",
        "at=[0,1,2,3]\n",
        "bt=[3,2,1,4]\n",
        "ct=[]\n",
        "tat=[]\n",
        "wt=[]\n",
        "for i in range(4):\n",
        "  if i==0:\n",
        "    ct.append(bt[i])\n",
        "  else:\n",
        "    ct.append(bt[i]+ct[i-1])\n",
        "for i in range(4):\n",
        "    tat.append(ct[i]-at[i])\n",
        "    wt.append(tat[i]-bt[i])\n",
        "\n",
        "print(\"Complition time:\",ct)\n",
        "print(\"Turn around time:\",tat)\n",
        "print(\"Waitig time:\",wt)"
      ],
      "metadata": {
        "colab": {
          "base_uri": "https://localhost:8080/"
        },
        "id": "YjF-HsaWpkCg",
        "outputId": "f0d4d979-7e3b-4ae8-f087-be27c3e1953a"
      },
      "execution_count": 31,
      "outputs": [
        {
          "output_type": "stream",
          "name": "stdout",
          "text": [
            "Complition time: [3, 5, 6, 10]\n",
            "Turn around time: [3, 4, 4, 7]\n",
            "Waitig time: [0, 2, 3, 3]\n"
          ]
        }
      ]
    },
    {
      "cell_type": "code",
      "source": [],
      "metadata": {
        "id": "ejsj88KipkE-"
      },
      "execution_count": null,
      "outputs": []
    }
  ]
}
