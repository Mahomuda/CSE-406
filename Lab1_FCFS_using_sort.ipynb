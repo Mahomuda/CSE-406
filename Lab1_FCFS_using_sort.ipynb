{
  "nbformat": 4,
  "nbformat_minor": 0,
  "metadata": {
    "colab": {
      "provenance": []
    },
    "kernelspec": {
      "name": "python3",
      "display_name": "Python 3"
    },
    "language_info": {
      "name": "python"
    }
  },
  "cells": [
    {
      "cell_type": "code",
      "execution_count": 23,
      "metadata": {
        "colab": {
          "base_uri": "https://localhost:8080/"
        },
        "id": "Wi1_2ObBkayU",
        "outputId": "ea4a8837-1ea7-47ae-eb71-5f860d557699"
      },
      "outputs": [
        {
          "output_type": "stream",
          "name": "stdout",
          "text": [
            "Enter number of processes: 4\n",
            "Enter process ID : 1\n",
            "Enter arrival time for 1: 0\n",
            "Enter burst time for 1: 3\n",
            "Enter process ID : 2\n",
            "Enter arrival time for 2: 1\n",
            "Enter burst time for 2: 2\n",
            "Enter process ID : 3\n",
            "Enter arrival time for 3: 2\n",
            "Enter burst time for 3: 1\n",
            "Enter process ID : 4\n",
            "Enter arrival time for 4: 3\n",
            "Enter burst time for 4: 4\n",
            "\n",
            "Process ID | AT | BT | CT | TAT | WT\n",
            "1 | 0 | 3 | 3 | 3 | 0\n",
            "2 | 1 | 2 | 5 | 4 | 2\n",
            "3 | 2 | 1 | 6 | 4 | 3\n",
            "4 | 3 | 4 | 10 | 7 | 3\n",
            "\n",
            "Avg WT: 2.00\n",
            "Avg TAT: 4.50\n"
          ]
        }
      ],
      "source": [
        "proc = []\n",
        "n = int(input(\"Enter number of processes: \"))\n",
        "\n",
        "for i in range(n):\n",
        "    pid = input(f\"Enter process ID : \")\n",
        "    pid = i+1\n",
        "    at = int(input(f\"Enter arrival time for {pid}: \"))\n",
        "    bt = int(input(f\"Enter burst time for {pid}: \"))\n",
        "    proc.append([pid, at, bt])\n",
        "\n",
        "# Sorting using at\n",
        "proc.sort(key=lambda x: x[1])\n",
        "\n",
        "cur_time = 0\n",
        "ct = []  # Completion Time\n",
        "tat = []  # Turnaround Time\n",
        "wt = []   # Waiting Time\n",
        "\n",
        "for p in proc:\n",
        "    pid, at, bt = p\n",
        "\n",
        "    if cur_time < at:\n",
        "        cur_time = at\n",
        "\n",
        "    comp_time = cur_time + bt\n",
        "    ct.append(comp_time)\n",
        "    ta_time = comp_time - at\n",
        "    tat.append(ta_time)\n",
        "    w_time = ta_time - bt\n",
        "    wt.append(w_time)\n",
        "\n",
        "    cur_time = comp_time\n",
        "\n",
        "print(\"\\nProcess ID | AT | BT | CT | TAT | WT\")\n",
        "for i in range(n):\n",
        "    print(f\"{proc[i][0]} | {proc[i][1]} | {proc[i][2]} | {ct[i]} | {tat[i]} | {wt[i]}\")\n",
        "\n",
        "# avg\n",
        "avg_wait = sum(wt) / n\n",
        "avg_tat = sum(tat) / n\n",
        "\n",
        "print(f\"\\nAvg WT: {avg_wait:.2f}\")\n",
        "print(f\"Avg TAT: {avg_tat:.2f}\")"
      ]
    },
    {
      "cell_type": "code",
      "source": [],
      "metadata": {
        "id": "sHhiHhs7kbqP"
      },
      "execution_count": null,
      "outputs": []
    }
  ]
}